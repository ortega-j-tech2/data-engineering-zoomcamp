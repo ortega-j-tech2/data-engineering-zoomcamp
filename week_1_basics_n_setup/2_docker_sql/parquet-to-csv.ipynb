{
 "cells": [
  {
   "cell_type": "code",
   "execution_count": 7,
   "id": "28a71eb6",
   "metadata": {},
   "outputs": [],
   "source": [
    "import pandas as pd"
   ]
  },
  {
   "cell_type": "code",
   "execution_count": 8,
   "id": "01d3f0d0",
   "metadata": {
    "scrolled": true
   },
   "outputs": [],
   "source": [
    "df = pd.read_parquet('yellow_tripdata_2023-01.parquet')"
   ]
  },
  {
   "cell_type": "code",
   "execution_count": 9,
   "id": "e4384a66",
   "metadata": {},
   "outputs": [
    {
     "name": "stdout",
     "output_type": "stream",
     "text": [
      "Converting file...\n"
     ]
    }
   ],
   "source": [
    "print('Converting file...')"
   ]
  },
  {
   "cell_type": "code",
   "execution_count": null,
   "id": "b09a077d",
   "metadata": {},
   "outputs": [],
   "source": [
    "df.to_csv('yellow_tripdata_2023-01.csv')"
   ]
  },
  {
   "cell_type": "code",
   "execution_count": null,
   "id": "ee4f03fe",
   "metadata": {
    "scrolled": false
   },
   "outputs": [],
   "source": [
    "print('Converting file finished!')"
   ]
  },
  {
   "cell_type": "code",
   "execution_count": null,
   "id": "ad3d06b9",
   "metadata": {},
   "outputs": [],
   "source": []
  },
  {
   "cell_type": "code",
   "execution_count": null,
   "id": "b8fddf80",
   "metadata": {},
   "outputs": [],
   "source": []
  },
  {
   "cell_type": "code",
   "execution_count": null,
   "id": "fc45e699",
   "metadata": {},
   "outputs": [],
   "source": []
  },
  {
   "cell_type": "code",
   "execution_count": null,
   "id": "9dd74da1",
   "metadata": {},
   "outputs": [],
   "source": []
  }
 ],
 "metadata": {
  "kernelspec": {
   "display_name": "Python 3",
   "language": "python",
   "name": "python3"
  },
  "language_info": {
   "codemirror_mode": {
    "name": "ipython",
    "version": 3
   },
   "file_extension": ".py",
   "mimetype": "text/x-python",
   "name": "python",
   "nbconvert_exporter": "python",
   "pygments_lexer": "ipython3",
   "version": "3.6.5"
  }
 },
 "nbformat": 4,
 "nbformat_minor": 5
}
